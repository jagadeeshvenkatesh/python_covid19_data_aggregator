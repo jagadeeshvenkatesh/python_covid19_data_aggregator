{
 "cells": [
  {
   "cell_type": "markdown",
   "metadata": {},
   "source": [
    "## Covid19 data aggregator"
   ]
  },
  {
   "cell_type": "markdown",
   "metadata": {},
   "source": [
    "This notebook scrapes data from the best source of Covid19 data on the web and coverts it into a Pandas DataFrame"
   ]
  },
  {
   "cell_type": "code",
   "execution_count": 13,
   "metadata": {
    "ExecuteTime": {
     "end_time": "2020-03-12T14:43:50.160504Z",
     "start_time": "2020-03-12T14:43:50.155670Z"
    }
   },
   "outputs": [],
   "source": [
    "import requests\n",
    "from bs4 import BeautifulSoup\n",
    "import re\n",
    "import pandas as pd\n",
    "import datetime"
   ]
  },
  {
   "cell_type": "markdown",
   "metadata": {},
   "source": [
    "The best source of aggregate Covid-19 data i've found is [here](ncov2019.live/data); it is consolidated from various sources by [Avi Schiffmann](https://www.linkedin.com/in/avi-schiffmann/). \n",
    "\n",
    "Tremendous thanks to Avi for doing all of the scraping and consolidation code."
   ]
  },
  {
   "cell_type": "code",
   "execution_count": 9,
   "metadata": {
    "ExecuteTime": {
     "end_time": "2020-03-12T13:04:07.935756Z",
     "start_time": "2020-03-12T13:04:07.931978Z"
    }
   },
   "outputs": [],
   "source": [
    "url = 'https://ncov2019.live/data'"
   ]
  },
  {
   "cell_type": "markdown",
   "metadata": {},
   "source": [
    "We'll use a date stamp on the hour of query, I don't substanitive updates happening any more frequently than hourly."
   ]
  },
  {
   "cell_type": "code",
   "execution_count": 10,
   "metadata": {
    "ExecuteTime": {
     "end_time": "2020-03-12T13:04:10.000994Z",
     "start_time": "2020-03-12T13:04:09.995265Z"
    }
   },
   "outputs": [
    {
     "data": {
      "text/plain": [
       "'2020-03-12:08:00:00'"
      ]
     },
     "execution_count": 10,
     "metadata": {},
     "output_type": "execute_result"
    }
   ],
   "source": [
    "now = datetime.datetime.now().strftime((\"%Y-%m-%d:%H:00:00\"))\n",
    "now"
   ]
  },
  {
   "cell_type": "markdown",
   "metadata": {},
   "source": [
    "Data can be stored to disk and aggregated with other snapshots periodically to see trend data"
   ]
  },
  {
   "cell_type": "code",
   "execution_count": 11,
   "metadata": {
    "ExecuteTime": {
     "end_time": "2020-03-12T13:04:10.894001Z",
     "start_time": "2020-03-12T13:04:10.890282Z"
    }
   },
   "outputs": [],
   "source": [
    "directory = 'data'\n",
    "storage_file = f'./{directory}/corona_{now}.pickle'"
   ]
  },
  {
   "cell_type": "code",
   "execution_count": 12,
   "metadata": {
    "ExecuteTime": {
     "end_time": "2020-03-12T13:04:12.109606Z",
     "start_time": "2020-03-12T13:04:11.718207Z"
    }
   },
   "outputs": [
    {
     "data": {
      "text/html": [
       "<div>\n",
       "<style scoped>\n",
       "    .dataframe tbody tr th:only-of-type {\n",
       "        vertical-align: middle;\n",
       "    }\n",
       "\n",
       "    .dataframe tbody tr th {\n",
       "        vertical-align: top;\n",
       "    }\n",
       "\n",
       "    .dataframe thead th {\n",
       "        text-align: right;\n",
       "    }\n",
       "</style>\n",
       "<table border=\"1\" class=\"dataframe\">\n",
       "  <thead>\n",
       "    <tr style=\"text-align: right;\">\n",
       "      <th></th>\n",
       "      <th>Mainland China</th>\n",
       "      <th>Italy</th>\n",
       "      <th>Iran</th>\n",
       "      <th>South Korea</th>\n",
       "      <th>France</th>\n",
       "      <th>Spain</th>\n",
       "      <th>Germany</th>\n",
       "      <th>United States</th>\n",
       "      <th>Diamond Princess</th>\n",
       "      <th>Switzerland</th>\n",
       "      <th>...</th>\n",
       "      <th>Tasmania</th>\n",
       "      <th>External territories</th>\n",
       "      <th>Jervis Bay Territory</th>\n",
       "      <th>Canberra (ACT)</th>\n",
       "      <th>Brasil</th>\n",
       "      <th>Panamá</th>\n",
       "      <th>México</th>\n",
       "      <th>Rep. Dominicana</th>\n",
       "      <th>Cuba</th>\n",
       "      <th>Bolivia</th>\n",
       "    </tr>\n",
       "  </thead>\n",
       "  <tbody>\n",
       "    <tr>\n",
       "      <td>0</td>\n",
       "      <td>80793</td>\n",
       "      <td>12462</td>\n",
       "      <td>10075</td>\n",
       "      <td>7869</td>\n",
       "      <td>2281</td>\n",
       "      <td>2277</td>\n",
       "      <td>1966</td>\n",
       "      <td>1336</td>\n",
       "      <td>45</td>\n",
       "      <td>642</td>\n",
       "      <td>...</td>\n",
       "      <td>2</td>\n",
       "      <td>0</td>\n",
       "      <td>0</td>\n",
       "      <td>0</td>\n",
       "      <td>69</td>\n",
       "      <td>14</td>\n",
       "      <td>13</td>\n",
       "      <td>5</td>\n",
       "      <td>3</td>\n",
       "      <td>2</td>\n",
       "    </tr>\n",
       "    <tr>\n",
       "      <td>1</td>\n",
       "      <td>3169</td>\n",
       "      <td>827</td>\n",
       "      <td>429</td>\n",
       "      <td>66</td>\n",
       "      <td>48</td>\n",
       "      <td>55</td>\n",
       "      <td>3</td>\n",
       "      <td>36</td>\n",
       "      <td>0</td>\n",
       "      <td>4</td>\n",
       "      <td>...</td>\n",
       "      <td>0</td>\n",
       "      <td>0</td>\n",
       "      <td>0</td>\n",
       "      <td>0</td>\n",
       "      <td>0</td>\n",
       "      <td>1</td>\n",
       "      <td>0</td>\n",
       "      <td>0</td>\n",
       "      <td>0</td>\n",
       "      <td>0</td>\n",
       "    </tr>\n",
       "    <tr>\n",
       "      <td>2</td>\n",
       "      <td>62793</td>\n",
       "      <td>1045</td>\n",
       "      <td>2959</td>\n",
       "      <td>333</td>\n",
       "      <td>12</td>\n",
       "      <td>183</td>\n",
       "      <td>25</td>\n",
       "      <td>9</td>\n",
       "      <td>2</td>\n",
       "      <td>4</td>\n",
       "      <td>...</td>\n",
       "      <td>0</td>\n",
       "      <td>0</td>\n",
       "      <td>0</td>\n",
       "      <td>0</td>\n",
       "      <td></td>\n",
       "      <td></td>\n",
       "      <td>4</td>\n",
       "      <td></td>\n",
       "      <td></td>\n",
       "      <td></td>\n",
       "    </tr>\n",
       "    <tr>\n",
       "      <td>3</td>\n",
       "      <td>4257</td>\n",
       "      <td>1028</td>\n",
       "      <td></td>\n",
       "      <td></td>\n",
       "      <td>105</td>\n",
       "      <td>126</td>\n",
       "      <td></td>\n",
       "      <td>2</td>\n",
       "      <td></td>\n",
       "      <td></td>\n",
       "      <td>...</td>\n",
       "      <td>0</td>\n",
       "      <td>0</td>\n",
       "      <td>0</td>\n",
       "      <td>0</td>\n",
       "      <td>1</td>\n",
       "      <td></td>\n",
       "      <td>1</td>\n",
       "      <td></td>\n",
       "      <td></td>\n",
       "      <td></td>\n",
       "    </tr>\n",
       "  </tbody>\n",
       "</table>\n",
       "<p>4 rows × 204 columns</p>\n",
       "</div>"
      ],
      "text/plain": [
       "  Mainland China  Italy   Iran South Korea France Spain Germany United States  \\\n",
       "0          80793  12462  10075        7869   2281  2277    1966          1336   \n",
       "1           3169    827    429          66     48    55       3            36   \n",
       "2          62793   1045   2959         333     12   183      25             9   \n",
       "3           4257   1028                       105   126                     2   \n",
       "\n",
       "  Diamond Princess Switzerland  ... Tasmania External territories  \\\n",
       "0               45         642  ...        2                    0   \n",
       "1                0           4  ...        0                    0   \n",
       "2                2           4  ...        0                    0   \n",
       "3                               ...        0                    0   \n",
       "\n",
       "  Jervis Bay Territory Canberra (ACT) Brasil Panamá México Rep. Dominicana  \\\n",
       "0                    0              0     69     14     13               5   \n",
       "1                    0              0      0      1      0               0   \n",
       "2                    0              0                    4                   \n",
       "3                    0              0      1             1                   \n",
       "\n",
       "  Cuba Bolivia  \n",
       "0    3       2  \n",
       "1    0       0  \n",
       "2               \n",
       "3               \n",
       "\n",
       "[4 rows x 204 columns]"
      ]
     },
     "execution_count": 12,
     "metadata": {},
     "output_type": "execute_result"
    }
   ],
   "source": [
    "req = requests.get(url)\n",
    "soup = BeautifulSoup(req.text, 'html.parser')\n",
    "\n",
    "tables = soup.find_all('tr')\n",
    "\n",
    "covid_data_d = {}\n",
    "for table in tables:\n",
    "    table_bodies = table.find_all('td')\n",
    "    region_data_l = []\n",
    "    for table_body in table_bodies:\n",
    "        region_data_l.append(table_body.get_text())\n",
    "\n",
    "    if len(region_data_l) == 0:\n",
    "        continue\n",
    "    region_data_l = [i.lstrip().rstrip() for i in region_data_l]\n",
    "    region_data_l = [i.replace(',','') for i in region_data_l]\n",
    "    covid_data_d[region_data_l[0]] = region_data_l[1:]\n",
    "\n",
    "\n",
    "raw_covid_df = pd.DataFrame(covid_data_d)\n",
    "raw_covid_df"
   ]
  },
  {
   "cell_type": "code",
   "execution_count": 6,
   "metadata": {
    "ExecuteTime": {
     "end_time": "2020-03-11T18:25:02.048500Z",
     "start_time": "2020-03-11T18:25:02.029154Z"
    }
   },
   "outputs": [],
   "source": [
    "df = raw_covid_df.T.reset_index()\n",
    "df['region'] = df['index']\n",
    "del df['index']\n",
    "df['Date'] = now\n",
    "df = df.replace('',0)\n",
    "df.columns = ['Confirmed', 'Deceased', 'Recovered', 'Serious', 'Region', 'Date']\n",
    "df = df[['Date', 'Region', 'Confirmed', 'Deceased', 'Recovered', 'Serious']]         \n",
    "df.set_index('Date', inplace = True)"
   ]
  },
  {
   "cell_type": "code",
   "execution_count": 7,
   "metadata": {
    "ExecuteTime": {
     "end_time": "2020-03-11T18:25:02.576428Z",
     "start_time": "2020-03-11T18:25:02.555385Z"
    }
   },
   "outputs": [
    {
     "data": {
      "text/html": [
       "<div>\n",
       "<style scoped>\n",
       "    .dataframe tbody tr th:only-of-type {\n",
       "        vertical-align: middle;\n",
       "    }\n",
       "\n",
       "    .dataframe tbody tr th {\n",
       "        vertical-align: top;\n",
       "    }\n",
       "\n",
       "    .dataframe thead th {\n",
       "        text-align: right;\n",
       "    }\n",
       "</style>\n",
       "<table border=\"1\" class=\"dataframe\">\n",
       "  <thead>\n",
       "    <tr style=\"text-align: right;\">\n",
       "      <th></th>\n",
       "      <th>Region</th>\n",
       "      <th>Confirmed</th>\n",
       "      <th>Deceased</th>\n",
       "      <th>Recovered</th>\n",
       "      <th>Serious</th>\n",
       "    </tr>\n",
       "    <tr>\n",
       "      <th>Date</th>\n",
       "      <th></th>\n",
       "      <th></th>\n",
       "      <th></th>\n",
       "      <th></th>\n",
       "      <th></th>\n",
       "    </tr>\n",
       "  </thead>\n",
       "  <tbody>\n",
       "    <tr>\n",
       "      <td>2020-03-11:13:00:00</td>\n",
       "      <td>Mainland China</td>\n",
       "      <td>80778</td>\n",
       "      <td>3158</td>\n",
       "      <td>61475</td>\n",
       "      <td>4492</td>\n",
       "    </tr>\n",
       "    <tr>\n",
       "      <td>2020-03-11:13:00:00</td>\n",
       "      <td>Italy</td>\n",
       "      <td>10149</td>\n",
       "      <td>631</td>\n",
       "      <td>1004</td>\n",
       "      <td>877</td>\n",
       "    </tr>\n",
       "    <tr>\n",
       "      <td>2020-03-11:13:00:00</td>\n",
       "      <td>Iran</td>\n",
       "      <td>9000</td>\n",
       "      <td>354</td>\n",
       "      <td>2959</td>\n",
       "      <td>0</td>\n",
       "    </tr>\n",
       "    <tr>\n",
       "      <td>2020-03-11:13:00:00</td>\n",
       "      <td>South Korea</td>\n",
       "      <td>7755</td>\n",
       "      <td>60</td>\n",
       "      <td>288</td>\n",
       "      <td>0</td>\n",
       "    </tr>\n",
       "    <tr>\n",
       "      <td>2020-03-11:13:00:00</td>\n",
       "      <td>Spain</td>\n",
       "      <td>2124</td>\n",
       "      <td>49</td>\n",
       "      <td>136</td>\n",
       "      <td>126</td>\n",
       "    </tr>\n",
       "    <tr>\n",
       "      <td>...</td>\n",
       "      <td>...</td>\n",
       "      <td>...</td>\n",
       "      <td>...</td>\n",
       "      <td>...</td>\n",
       "      <td>...</td>\n",
       "    </tr>\n",
       "    <tr>\n",
       "      <td>2020-03-11:13:00:00</td>\n",
       "      <td>Newfoundland &amp; Labrador</td>\n",
       "      <td>0</td>\n",
       "      <td>0</td>\n",
       "      <td>0</td>\n",
       "      <td>0</td>\n",
       "    </tr>\n",
       "    <tr>\n",
       "      <td>2020-03-11:13:00:00</td>\n",
       "      <td>Prince Edward Island</td>\n",
       "      <td>0</td>\n",
       "      <td>0</td>\n",
       "      <td>0</td>\n",
       "      <td>0</td>\n",
       "    </tr>\n",
       "    <tr>\n",
       "      <td>2020-03-11:13:00:00</td>\n",
       "      <td>Northwest Territories</td>\n",
       "      <td>0</td>\n",
       "      <td>0</td>\n",
       "      <td>0</td>\n",
       "      <td>0</td>\n",
       "    </tr>\n",
       "    <tr>\n",
       "      <td>2020-03-11:13:00:00</td>\n",
       "      <td>Nunavut</td>\n",
       "      <td>0</td>\n",
       "      <td>0</td>\n",
       "      <td>0</td>\n",
       "      <td>0</td>\n",
       "    </tr>\n",
       "    <tr>\n",
       "      <td>2020-03-11:13:00:00</td>\n",
       "      <td>Yukon</td>\n",
       "      <td>0</td>\n",
       "      <td>0</td>\n",
       "      <td>0</td>\n",
       "      <td>0</td>\n",
       "    </tr>\n",
       "  </tbody>\n",
       "</table>\n",
       "<p>186 rows × 5 columns</p>\n",
       "</div>"
      ],
      "text/plain": [
       "                                      Region Confirmed Deceased Recovered  \\\n",
       "Date                                                                        \n",
       "2020-03-11:13:00:00           Mainland China     80778     3158     61475   \n",
       "2020-03-11:13:00:00                    Italy     10149      631      1004   \n",
       "2020-03-11:13:00:00                     Iran      9000      354      2959   \n",
       "2020-03-11:13:00:00              South Korea      7755       60       288   \n",
       "2020-03-11:13:00:00                    Spain      2124       49       136   \n",
       "...                                      ...       ...      ...       ...   \n",
       "2020-03-11:13:00:00  Newfoundland & Labrador         0        0         0   \n",
       "2020-03-11:13:00:00     Prince Edward Island         0        0         0   \n",
       "2020-03-11:13:00:00    Northwest Territories         0        0         0   \n",
       "2020-03-11:13:00:00                  Nunavut         0        0         0   \n",
       "2020-03-11:13:00:00                    Yukon         0        0         0   \n",
       "\n",
       "                    Serious  \n",
       "Date                         \n",
       "2020-03-11:13:00:00    4492  \n",
       "2020-03-11:13:00:00     877  \n",
       "2020-03-11:13:00:00       0  \n",
       "2020-03-11:13:00:00       0  \n",
       "2020-03-11:13:00:00     126  \n",
       "...                     ...  \n",
       "2020-03-11:13:00:00       0  \n",
       "2020-03-11:13:00:00       0  \n",
       "2020-03-11:13:00:00       0  \n",
       "2020-03-11:13:00:00       0  \n",
       "2020-03-11:13:00:00       0  \n",
       "\n",
       "[186 rows x 5 columns]"
      ]
     },
     "execution_count": 7,
     "metadata": {},
     "output_type": "execute_result"
    }
   ],
   "source": [
    "df.to_pickle(storage_file)\n",
    "df"
   ]
  },
  {
   "cell_type": "code",
   "execution_count": null,
   "metadata": {},
   "outputs": [],
   "source": []
  },
  {
   "cell_type": "code",
   "execution_count": null,
   "metadata": {},
   "outputs": [],
   "source": []
  }
 ],
 "metadata": {
  "kernelspec": {
   "display_name": "Python 3",
   "language": "python",
   "name": "python3"
  },
  "language_info": {
   "codemirror_mode": {
    "name": "ipython",
    "version": 3
   },
   "file_extension": ".py",
   "mimetype": "text/x-python",
   "name": "python",
   "nbconvert_exporter": "python",
   "pygments_lexer": "ipython3",
   "version": "3.6.5"
  },
  "toc": {
   "base_numbering": 1,
   "nav_menu": {},
   "number_sections": true,
   "sideBar": true,
   "skip_h1_title": false,
   "title_cell": "Table of Contents",
   "title_sidebar": "Contents",
   "toc_cell": false,
   "toc_position": {},
   "toc_section_display": true,
   "toc_window_display": false
  }
 },
 "nbformat": 4,
 "nbformat_minor": 2
}
